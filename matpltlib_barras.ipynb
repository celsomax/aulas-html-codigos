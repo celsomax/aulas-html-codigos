{
  "nbformat": 4,
  "nbformat_minor": 0,
  "metadata": {
    "colab": {
      "name": "matpltlib-barras.ipynb",
      "provenance": [],
      "collapsed_sections": [],
      "authorship_tag": "ABX9TyOP076A6DQ65GlqLwX5UjRK",
      "include_colab_link": true
    },
    "kernelspec": {
      "name": "python3",
      "display_name": "Python 3"
    }
  },
  "cells": [
    {
      "cell_type": "markdown",
      "metadata": {
        "id": "view-in-github",
        "colab_type": "text"
      },
      "source": [
        "<a href=\"https://colab.research.google.com/github/celsomax/aulas-html-codigos/blob/master/matpltlib_barras.ipynb\" target=\"_parent\"><img src=\"https://colab.research.google.com/assets/colab-badge.svg\" alt=\"Open In Colab\"/></a>"
      ]
    },
    {
      "cell_type": "markdown",
      "metadata": {
        "id": "xj3xU8NfBwXj",
        "colab_type": "text"
      },
      "source": [
        "Criando gráfico de barras"
      ]
    },
    {
      "cell_type": "code",
      "metadata": {
        "id": "aSRpK-oCAoGw",
        "colab_type": "code",
        "colab": {
          "base_uri": "https://localhost:8080/",
          "height": 295
        },
        "outputId": "0212abd7-32e0-4b30-91b8-f641409597ca"
      },
      "source": [
        "import matplotlib.pyplot as plt\n",
        "x = [1, 2, 3, 4, 5]\n",
        "y = [2, 3, 7, 1, 0]\n",
        "titulo = \"Gráfico de Barras\"\n",
        "eixoX = \"Eixo X\"\n",
        "eixoY = \"Eixo Y\"\n",
        "\n",
        "\n",
        "plt.title(titulo)\n",
        "plt.xlabel(eixoX)\n",
        "plt.ylabel(eixoY)\n",
        "\n",
        "plt.bar(x, y)\n",
        "plt.show()\n",
        "\n"
      ],
      "execution_count": 6,
      "outputs": [
        {
          "output_type": "display_data",
          "data": {
            "image/png": "[encoded data removed]",
            "text/plain": [
              "<Figure size 432x288 with 1 Axes>"
            ]
          },
          "metadata": {
            "tags": [],
            "needs_background": "light"
          }
        }
      ]
    }
  ]
}